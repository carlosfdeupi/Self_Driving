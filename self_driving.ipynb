{
  "cells": [
    {
      "cell_type": "markdown",
      "metadata": {
        "id": "view-in-github",
        "colab_type": "text"
      },
      "source": [
        "<a href=\"https://colab.research.google.com/github/carlosfdeupi/Self_Driving/blob/main/self_driving.ipynb\" target=\"_parent\"><img src=\"https://colab.research.google.com/assets/colab-badge.svg\" alt=\"Open In Colab\"/></a>"
      ]
    },
    {
      "cell_type": "code",
      "execution_count": null,
      "metadata": {
        "colab": {
          "base_uri": "https://localhost:8080/"
        },
        "id": "nLpk3GOyR14G",
        "outputId": "80c866cd-bc13-4a37-9ccf-5e053a647e9b"
      },
      "outputs": [
        {
          "name": "stdout",
          "output_type": "stream",
          "text": [
            "Mounted at /content/drive\n"
          ]
        }
      ],
      "source": [
        "from google.colab import drive\n",
        "drive.mount('/content/drive')\n",
        "import os\n",
        "# start your code here\n",
        "os.chdir(\"/content/drive/MyDrive/Homework10\") # please change the path to the path where your homework10 folder is\n",
        "# end your code here"
      ]
    },
    {
      "cell_type": "markdown",
      "metadata": {
        "id": "Bwl8dgdIQ9as"
      },
      "source": [
        "# Autonomous driving - Car detection\n",
        "\n",
        "Welcome to your week 12 programming assignment. You will learn about object detection using the very powerful YOLO model. Many of the ideas in this notebook are described in the two YOLO papers: [Redmon et al., 2016](https://arxiv.org/abs/1506.02640) and [Redmon and Farhadi, 2016](https://arxiv.org/abs/1612.08242). \n",
        "\n",
        "**You will learn to**:\n",
        "- Use object detection on a car detection dataset\n",
        "- Deal with bounding boxes\n",
        "\n"
      ]
    },
    {
      "cell_type": "markdown",
      "metadata": {
        "id": "rvOZ4MWIQ9ax"
      },
      "source": [
        "## Import libraries\n",
        "Run the following cell to load the packages and dependencies that you will find useful as you build the object detector!"
      ]
    },
    {
      "cell_type": "code",
      "execution_count": null,
      "metadata": {
        "id": "2UxyNdJ2Q9ax"
      },
      "outputs": [],
      "source": [
        "#!pip install pandas\n",
        "import argparse\n",
        "import os\n",
        "import matplotlib.pyplot as plt\n",
        "from matplotlib.pyplot import imshow\n",
        "import scipy.io\n",
        "import scipy.misc\n",
        "import numpy as np\n",
        "import pandas as pd\n",
        "#!pip install pillow\n",
        "import tensorflow as tf\n",
        "from keras import backend as K\n",
        "from keras.layers import Input, Lambda, Conv2D\n",
        "from keras.models import load_model, Model\n",
        "from yolo_utils import read_classes, read_anchors, generate_colors, preprocess_image, draw_boxes, scale_boxes\n",
        "from yad2k.models.keras_yolo import yolo_head, yolo_boxes_to_corners, preprocess_true_boxes, yolo_loss, yolo_body\n",
        "tf.random.set_seed(1)\n",
        "np.random.seed(1)\n",
        "\n",
        "%matplotlib inline"
      ]
    },
    {
      "cell_type": "markdown",
      "metadata": {
        "id": "VAwsMCQ8Q9az"
      },
      "source": [
        "**Important Note**: As you can see, we import Keras's backend as K. This means that to use a Keras function in this notebook, you will need to write: `K.function(...)`."
      ]
    },
    {
      "cell_type": "markdown",
      "metadata": {
        "id": "rF3djd61Q9az"
      },
      "source": [
        "## 1 - Problem Statement\n",
        "\n",
        "You are working on a self-driving car. As a critical component of this project, you'd like to first build a car detection system. To collect data, you've mounted a camera to the hood (meaning the front) of the car, which takes pictures of the road ahead every few seconds while you drive around. \n",
        "\n",
        "You've gathered all these images into a folder and have labelled them by drawing bounding boxes around every car you found. Here's an example of what your bounding boxes look like.\n",
        "\n",
        "![](https://drive.google.com/uc?export=view&id=18lkRPdCPHKoXqL4tGW54BpVDmDTamnV-) \n",
        "\n",
        "<caption><center> <u> **Figure 1** </u>: **Definition of a box**<br> </center></caption>\n",
        "\n",
        "If you have 80 classes that you want the object detector to recognize, you can represent the class label $c$ either as an integer from 1 to 80, or as an 80-dimensional vector (with 80 numbers) one component of which is 1 and the rest of which are 0. The lectures had used the latter representation; in this notebook, we will use both representations, depending on which is more convenient for a particular step.  \n",
        "\n",
        "In this exercise, you will learn how \"You Only Look Once\" (YOLO) performs object detection, and then apply it to car detection. Because the YOLO model is very computationally expensive to train, we will load pre-trained weights for you to use. "
      ]
    },
    {
      "cell_type": "markdown",
      "metadata": {
        "id": "abgulNtAQ9a0"
      },
      "source": [
        "## 2 - YOLO"
      ]
    },
    {
      "cell_type": "markdown",
      "metadata": {
        "id": "PD2Aj129Q9a1"
      },
      "source": [
        "\"You Only Look Once\" (YOLO) is a popular algorithm because it achieves high accuracy while also being able to run in real-time. This algorithm \"only looks once\" at the image in the sense that it requires only one forward propagation pass through the network to make predictions. After non-max suppression, it then outputs recognized objects together with the bounding boxes.\n",
        "\n",
        "### 2.1 - Model details\n",
        "\n",
        "#### Inputs and outputs\n",
        "- The **input** is a batch of images, and each image has the shape (m, 608, 608, 3), where m stands for the number of images.\n",
        "- The **output** is a list of bounding boxes along with the recognized classes. Each bounding box is represented by 6 numbers $(p_c, b_x, b_y, b_h, b_w, c)$ as explained above. If you expand $c$ into an 80-dimensional vector, each bounding box is then represented by 85 numbers. \n",
        "\n",
        "#### Anchor Boxes\n",
        "* Anchor boxes are chosen by exploring the training data to choose reasonable height/width ratios that represent the different classes.  For this assignment, 5 anchor boxes were chosen for you (to cover the 80 classes), and stored in the file './model_data/yolo_anchors.txt'\n",
        "* The dimension for anchor boxes is the second to last dimension in the encoding: $(m, n_H,n_W,anchors,classes)$.\n",
        "* The YOLO architecture is: IMAGE (m, 608, 608, 3) -> DEEP CNN -> ENCODING (m, 19, 19, 5, 85).  \n",
        "\n",
        "\n",
        "#### Encoding\n",
        "Let's look in greater detail at what this encoding represents. \n",
        "\n",
        "![](https://drive.google.com/uc?export=view&id=1jy3H1KjcxmtwXWMB3D-hgkRYuHOeqN8n) \n",
        "\n",
        "<caption><center> <u> **Figure 2** </u>: **Encoding architecture for YOLO**<br> </center></caption>\n",
        "\n",
        "If the center/midpoint of an object falls into a grid cell, that grid cell is responsible for detecting that object."
      ]
    },
    {
      "cell_type": "markdown",
      "metadata": {
        "id": "F_5m3hpLQ9a2"
      },
      "source": [
        "Since we are using 5 anchor boxes, each of the 19 x19 cells thus encodes information about 5 boxes. Anchor boxes are defined only by their width and height.\n",
        "\n",
        "For simplicity, we will flatten the last two last dimensions of the shape (19, 19, 5, 85) encoding. So the output of the Deep CNN is (19, 19, 425).\n",
        "\n",
        "![](https://drive.google.com/uc?export=view&id=1jmheG6pvMRRWBpVIvXgysgzW28B-ABHg) \n",
        "\n",
        "\n",
        "<caption><center> <u> **Figure 3** </u>: **Flattening the last two last dimensions**<br> </center></caption>"
      ]
    },
    {
      "cell_type": "markdown",
      "metadata": {
        "id": "2rWwz4o8Q9a2"
      },
      "source": [
        "#### Class score\n",
        "\n",
        "Now, for each box (of each cell) we will compute the following element-wise product and extract a probability that the box contains a certain class.  \n",
        "The class score is $score_{c,i} = p_{c} \\times c_{i}$: the probability that there is an object $p_{c}$ times the probability that the object is a certain class $c_{i}$.\n",
        "\n",
        "![](https://drive.google.com/uc?export=view&id=1d_l9neQc1Xw5lDGxDopcr-26v8U-wt4z) \n",
        "<caption><center> <u> **Figure 4** </u>: **Find the class detected by each box**<br> </center></caption>\n",
        "\n",
        "##### Example of figure 4\n",
        "* In figure 4, let's say for box 1 (cell 1), the probability that an object exists is $p_{1}=0.60$.  So there's a 60% chance that an object exists in box 1 (cell 1).  \n",
        "* The probability that the object is the class \"category 3 (a car)\" is $c_{3}=0.73$.  \n",
        "* The score for box 1 and for category \"3\" is $score_{1,3}=0.60 \\times 0.73 = 0.44$.  \n",
        "* Let's say we calculate the score for all 80 classes in box 1, and find that the score for the car class (class 3) is the maximum.  So we'll assign the score 0.44 and class \"3\" to this box \"1\".\n",
        "\n",
        "#### Visualizing classes\n",
        "Here's one way to visualize what YOLO is predicting on an image:\n",
        "- For each of the 19x19 grid cells, find the maximum of the probability scores (taking a max across the 80 classes, one maximum for each of the 5 anchor boxes).\n",
        "- Color that grid cell according to what object that grid cell considers the most likely.\n",
        "\n",
        "Doing this results in this picture: \n",
        "\n",
        "![](https://drive.google.com/uc?export=view&id=1TQnIKTEnTZ0zGIhbyPscCNsab7xwGA8m) \n",
        "\n",
        "<caption><center> <u> **Figure 5** </u>: Each one of the 19x19 grid cells is colored according to which class has the largest predicted probability in that cell.<br> </center></caption>\n",
        "\n",
        "Note that this visualization isn't a core part of the YOLO algorithm itself for making predictions; it's just a nice way of visualizing an intermediate result of the algorithm. \n"
      ]
    },
    {
      "cell_type": "markdown",
      "metadata": {
        "id": "5ab8pfBTQ9a3"
      },
      "source": [
        "#### Visualizing bounding boxes\n",
        "Another way to visualize YOLO's output is to plot the bounding boxes that it outputs. Doing that results in a visualization like this:  \n",
        "\n",
        "![](https://drive.google.com/uc?export=view&id=1iX_740ipT1C_XEdAo188GFP0snJRmbSn) \n",
        "\n",
        "<caption><center> <u> **Figure 6** </u>: Each cell gives you 5 boxes. In total, the model predicts: 19x19x5 = 1805 boxes just by looking once at the image (one forward pass through the network)! Different colors denote different classes. <br> </center></caption>\n",
        "\n",
        "#### Non-Max suppression\n",
        "In the figure above, we plotted only boxes for which the model had assigned a high probability, but this is still too many boxes. You'd like to reduce the algorithm's output to a much smaller number of detected objects.  \n",
        "\n",
        "To do so, you'll use **non-max suppression**. Specifically, you'll carry out these steps: \n",
        "- Get rid of boxes with a low score (meaning, the box is not very confident about detecting a class; either due to the low probability of any object, or low probability of this particular class).\n",
        "- Select only one box when several boxes overlap with each other and detect the same object.\n",
        "\n"
      ]
    },
    {
      "cell_type": "markdown",
      "metadata": {
        "id": "72EjnK6oQ9a3"
      },
      "source": [
        "### 2.2 - Filtering with a threshold on class scores\n",
        "\n",
        "You are going to first apply a filter by thresholding. You would like to get rid of any box for which the class \"score\" is less than a chosen threshold. \n",
        "\n",
        "The model gives you a total of 19x19x5x85 numbers, with each box described by 85 numbers. It is convenient to rearrange the (19,19,5,85) (or (19,19,425)) dimensional tensor into the following variables:  \n",
        "- `box_confidence`: tensor of shape $(19 \\times 19, 5, 1)$ containing $p_c$ (confidence probability that there's some object) for each of the 5 boxes predicted in each of the 19x19 cells.\n",
        "- `boxes`: tensor of shape $(19 \\times 19, 5, 4)$ containing the midpoint and dimensions $(b_x, b_y, b_h, b_w)$ for each of the 5 boxes in each cell.\n",
        "- `box_class_probs`: tensor of shape $(19 \\times 19, 5, 80)$ containing the \"class probabilities\" $(c_1, c_2, ... c_{80})$ for each of the 80 classes for each of the 5 boxes per cell.\n",
        "\n",
        "#### **Exercise**: Implement `yolo_filter_boxes()`.\n",
        "1. Compute box scores by doing the elementwise product as described in Figure 4 ($p \\times c$).  \n",
        "The following code may help you choose the right operator: \n",
        "```python\n",
        "a = np.random.randn(19*19, 5, 1)\n",
        "b = np.random.randn(19*19, 5, 80)\n",
        "c = a * b # shape of c will be (19*19, 5, 80)\n",
        "```\n",
        "This is an example of **broadcasting** (multiplying vectors of different sizes).\n",
        "\n",
        "2. For each box, find:\n",
        "    - the index of the class with the maximum box score\n",
        "    - the corresponding box score\n",
        "    \n",
        "    **Useful references**\n",
        "        * [Keras argmax](https://keras.io/backend/#argmax)\n",
        "        * [Keras max](https://keras.io/backend/#max)\n",
        "\n",
        "    **Additional Hints**\n",
        "        * For the `axis` parameter of `argmax` and `max`, if you want to select the **last** axis, one way to do so is to set `axis=-1`.  This is similar to Python array indexing, where you can select the last position of an array using `arrayname[-1]`.\n",
        "        * Applying `max` normally collapses the axis for which the maximum is applied.  `keepdims=False` is the default option, and allows that dimension to be removed.  We don't need to keep the last dimension after applying the maximum here.\n",
        "        * Even though the documentation shows `keras.backend.argmax`, use `keras.argmax`.  Similarly, use `keras.max`.\n",
        "\n",
        "\n",
        "3. Create a mask by using a threshold. As a reminder: `([0.9, 0.3, 0.4, 0.5, 0.1] < 0.4)` returns: `[False, True, False, False, True]`. The mask should be True for the boxes you want to keep. \n",
        "\n",
        "4. Use TensorFlow to apply the mask to `box_class_scores`, `boxes` and `box_classes` to filter out the boxes we don't want. You should be left with just the subset of boxes you want to keep.   \n",
        "\n",
        "    **Useful reference**:\n",
        "    * [boolean mask](https://www.tensorflow.org/api_docs/python/tf/boolean_mask)  \n",
        "\n",
        "   **Additional Hints**:  \n",
        "    * For the `tf.boolean_mask`, we can keep the default `axis=None`.\n",
        "\n",
        "**Reminder**: to call a Keras function, you should use `K.function(...)`."
      ]
    },
    {
      "cell_type": "code",
      "execution_count": null,
      "metadata": {
        "id": "h0p56PHfQ9a4"
      },
      "outputs": [],
      "source": [
        "# GRADED FUNCTION: yolo_filter_boxes\n",
        "\n",
        "def yolo_filter_boxes(box_confidence, boxes, box_class_probs, threshold = .6):\n",
        "    \"\"\"Filters YOLO boxes by thresholding on object and class confidence.\n",
        "    \n",
        "    Arguments:\n",
        "    box_confidence -- tensor of shape (19, 19, 5, 1)\n",
        "    boxes -- tensor of shape (19, 19, 5, 4)\n",
        "    box_class_probs -- tensor of shape (19, 19, 5, 80)\n",
        "    threshold -- real value, if [ highest class probability score < threshold], then get rid of the corresponding box\n",
        "    \n",
        "    Returns:\n",
        "    scores -- tensor of shape (None,), containing the class probability score for selected boxes\n",
        "    boxes -- tensor of shape (None, 4), containing (b_x, b_y, b_h, b_w) coordinates of selected boxes\n",
        "    classes -- tensor of shape (None,), containing the index of the class detected by the selected boxes\n",
        "    \n",
        "    Note: \"None\" is here because you don't know the exact number of selected boxes, as it depends on the threshold. \n",
        "    For example, the actual output size of scores would be (10,) if there are 10 boxes.\n",
        "    \"\"\"\n",
        "    \n",
        "    # Step 1: Compute box scores\n",
        "    ### START CODE HERE ### (≈ 1 line)\n",
        "    box_scores = box_confidence * box_class_probs # (19*19, 5, 80)\n",
        "    ### END CODE HERE ###\n",
        "    \n",
        "    # Step 2: Find the box_classes using the max box_scores, keep track of the corresponding score\n",
        "    ### START CODE HERE ### (≈ 2 lines)\n",
        "    box_classes = K.argmax(box_scores, axis=-1)\n",
        "    box_class_scores = K.max(box_scores, axis=-1)\n",
        "    ### END CODE HERE ###\n",
        "    \n",
        "    # Step 3: Create a filtering mask based on \"box_class_scores\" by using \"threshold\". The mask should have the\n",
        "    # same dimension as box_class_scores, and be True for the boxes you want to keep (with probability >= threshold)\n",
        "    ### START CODE HERE ### (≈ 1 line)\n",
        "    filtering_mask = (box_class_scores >= threshold)\n",
        "    ### END CODE HERE ###\n",
        "    \n",
        "    # Step 4: Apply the mask (tf.boolean_mask) to box_class_scores, boxes and box_classes\n",
        "    ### START CODE HERE ### (≈ 3 lines)\n",
        "    scores = tf.boolean_mask(box_class_scores, filtering_mask)\n",
        "    boxes = tf.boolean_mask(boxes, filtering_mask)\n",
        "    classes = tf.boolean_mask(box_classes, filtering_mask)\n",
        "    ### END CODE HERE ###\n",
        "    return scores, boxes, classes"
      ]
    },
    {
      "cell_type": "code",
      "execution_count": null,
      "metadata": {
        "id": "GRJ5oWkWQ9a4"
      },
      "outputs": [],
      "source": [
        "tf.random.set_seed(2)\n",
        "box_confidence = tf.random.normal([19, 19, 5, 1], mean=1, stddev=4, seed = 1)\n",
        "boxes = tf.random.normal([19, 19, 5, 4], mean=1, stddev=4, seed = 1)\n",
        "box_class_probs = tf.random.normal([19, 19, 5, 80], mean=1, stddev=4, seed = 1)\n",
        "scores, boxes, classes = yolo_filter_boxes(box_confidence, boxes, box_class_probs, threshold = 0.5)\n",
        "print(\"scores[2] = \" + str(scores[2].numpy()))\n",
        "print(\"boxes[2] = \" + str(boxes[2].numpy()))\n",
        "print(\"classes[2] = \" + str(classes[2].numpy()))\n",
        "print(\"scores.shape = \" + str(scores.shape))\n",
        "print(\"boxes.shape = \" + str(boxes.shape))\n",
        "print(\"classes.shape = \" + str(classes.shape))\n",
        "    "
      ]
    },
    {
      "cell_type": "markdown",
      "metadata": {
        "id": "BUr8lgw-Q9a5"
      },
      "source": [
        "**Expected Output**:\n",
        "\n",
        "```\n",
        "scores[2] = 14.582155\n",
        "boxes[2] = [ 4.83091    -0.16412461  3.206532   -3.500543  ]\n",
        "classes[2] = 71\n",
        "scores.shape = (1780,)\n",
        "boxes.shape = (1780, 4)\n",
        "classes.shape = (1780,)\n",
        "```"
      ]
    },
    {
      "cell_type": "markdown",
      "metadata": {
        "id": "WIaA-ZpZQ9a5"
      },
      "source": [
        "**Note** In the test for `yolo_filter_boxes`, we're using random numbers to test the function.  In real data, the `box_class_probs` would contain non-zero values between 0 and 1 for the probabilities.  The box coordinates in `boxes` would also be chosen so that lengths and heights are non-negative."
      ]
    },
    {
      "cell_type": "markdown",
      "metadata": {
        "id": "fmKeqZqbQ9a5"
      },
      "source": [
        "### 2.3 - Non-max suppression ###\n",
        "\n",
        "Even after filtering by thresholding over the class scores, you still end up with a lot of overlapping boxes. A second filter for selecting the right boxes is called non-maximum suppression (NMS). "
      ]
    },
    {
      "cell_type": "markdown",
      "metadata": {
        "id": "RxHr_eitQ9a5"
      },
      "source": [
        "![](https://drive.google.com/uc?export=view&id=1HEQauYohDkO3Rnu1WuMwrVuec2s5e42X) \n",
        "\n",
        "<caption><center> <u> **Figure 7** </u>: In this example, the model has predicted 3 cars, but it's actually 3 predictions of the same car. Running non-max suppression (NMS) will select only the most accurate (highest probability) of the 3 boxes. <br> </center></caption>\n"
      ]
    },
    {
      "cell_type": "markdown",
      "metadata": {
        "id": "If0EUQaJQ9a5"
      },
      "source": [
        "Non-max suppression uses the very important function called **\"Intersection over Union\"**, or IoU.\n",
        "\n",
        "![](https://drive.google.com/uc?export=view&id=1c3LwauPt2prxpHC0SfNv5eqpko3lU6bi) \n",
        "\n",
        "<caption><center> <u> **Figure 8** </u>: Definition of \"Intersection over Union\". <br> </center></caption>\n",
        "\n",
        "#### **Exercise**: Implement iou(). Some hints:\n",
        "- In this code, we use the convention that (0,0) is the top-left corner of an image, (1,0) is the upper-right corner, and (1,1) is the lower-right corner. In other words, the (0,0) origin starts at the top left corner of the image. As x increases, we move to the right.  As y increases, we move down.\n",
        "- For this exercise, we define a box using its two corners: upper left $(x_1, y_1)$ and lower right $(x_2,y_2)$, instead of using the midpoint, height and width. (This makes it a bit easier to calculate the intersection).\n",
        "- To calculate the area of a rectangle, multiply its height $(y_2 - y_1)$ by its width $(x_2 - x_1)$. (Since $(x_1,y_1)$ is the top left and $x_2,y_2$ are the bottom right, these differences should be non-negative.\n",
        "- To find the **intersection** of the two boxes $(xi_{1}, yi_{1}, xi_{2}, yi_{2})$: \n",
        "    - Feel free to draw some examples on paper to clarify this conceptually.\n",
        "    - The top left corner of the intersection $(xi_{1}, yi_{1})$ is found by comparing the top left corners $(x_1, y_1)$ of the two boxes and finding a vertex that has an x-coordinate that is closer to the right, and y-coordinate that is closer to the bottom.\n",
        "    - The bottom right corner of the intersection $(xi_{2}, yi_{2})$ is found by comparing the bottom right corners $(x_2,y_2)$ of the two boxes and finding a vertex whose x-coordinate is closer to the left, and the y-coordinate that is closer to the top.\n",
        "    - The two boxes **may have no intersection**.  You can detect this if the intersection coordinates you calculate end up being the top right and/or bottom left corners of an intersection box.  Another way to think of this is if you calculate the height $(y_2 - y_1)$ or width $(x_2 - x_1)$ and find that at least one of these lengths is negative, then there is no intersection (intersection area is zero).  \n",
        "    - The two boxes may intersect at the **edges or vertices**, in which case the intersection area is still zero.  This happens when either the height or width (or both) of the calculated intersection is zero.\n",
        "\n",
        "\n",
        "**Additional Hints**\n",
        "\n",
        "- `xi1` = **max**imum of the x1 coordinates of the two boxes\n",
        "- `yi1` = **max**imum of the y1 coordinates of the two boxes\n",
        "- `xi2` = **min**imum of the x2 coordinates of the two boxes\n",
        "- `yi2` = **min**imum of the y2 coordinates of the two boxes\n",
        "- `inter_area` = You can use `max(height, 0)` and `max(width, 0)`\n"
      ]
    },
    {
      "cell_type": "code",
      "execution_count": null,
      "metadata": {
        "id": "kFdGyw-JQ9a6"
      },
      "outputs": [],
      "source": [
        "# GRADED FUNCTION: iou\n",
        "\n",
        "def iou(box1, box2):\n",
        "    \"\"\"Implement the intersection over union (IoU) between box1 and box2\n",
        "    \n",
        "    Arguments:\n",
        "    box1 -- first box, list object with coordinates (box1_x1, box1_y1, box1_x2, box_1_y2)\n",
        "    box2 -- second box, list object with coordinates (box2_x1, box2_y1, box2_x2, box2_y2)\n",
        "    \"\"\"\n",
        "\n",
        "    # Assign variable names to coordinates for clarity\n",
        "    (box1_x1, box1_y1, box1_x2, box1_y2) = box1\n",
        "    (box2_x1, box2_y1, box2_x2, box2_y2) = box2\n",
        "    \n",
        "    # Calculate the (yi1, xi1, yi2, xi2) coordinates of the intersection of box1 and box2. Calculate its Area.\n",
        "    ### START CODE HERE ### (≈ 7 lines)\n",
        "    xi1 = max(box1_x1, box2_x1)\n",
        "    yi1 = max(box1_y1, box2_y1)\n",
        "    xi2 = min(box1_x2, box2_x2)\n",
        "    yi2 = min(box1_y2, box2_y2)\n",
        "    inter_width = xi2 - xi1\n",
        "    inter_height = yi2 - yi1\n",
        "    inter_area = max(inter_width, 0) * max(inter_height, 0)\n",
        "    ### END CODE HERE ###    \n",
        "\n",
        "    # Calculate the Union area by using Formula: Union(A,B) = A + B - Inter(A,B)\n",
        "    ### START CODE HERE ### (≈ 3 lines)\n",
        "    box1_area = (box1_x2 - box1_x1) * (box1_y2 - box1_y1)\n",
        "    box2_area = (box2_x2 - box2_x1) * (box2_y2 - box2_y1)\n",
        "    union_area = box1_area + box2_area - inter_area\n",
        "    ### END CODE HERE ###\n",
        "    \n",
        "    # compute the IoU\n",
        "    ### START CODE HERE ### (≈ 1 line)\n",
        "    iou = inter_area / union_area\n",
        "    ### END CODE HERE ###\n",
        "    \n",
        "    return iou"
      ]
    },
    {
      "cell_type": "code",
      "execution_count": null,
      "metadata": {
        "id": "EQwWH-lgQ9a6"
      },
      "outputs": [],
      "source": [
        "## Test case 1: boxes intersect\n",
        "box1 = (2, 1, 4, 3)\n",
        "box2 = (1, 2, 3, 4) \n",
        "print(\"iou for intersecting boxes = \" + str(iou(box1,box2)))\n",
        "\n",
        "## Test case 2: boxes do not intersect\n",
        "box1 = (1,2,3,4)\n",
        "box2 = (5,6,7,8)\n",
        "print(\"iou for non-intersecting boxes = \" + str(iou(box1,box2)))\n",
        "\n",
        "## Test case 3: boxes intersect at vertices only\n",
        "box1 = (1,1,2,2)\n",
        "box2 = (2,2,3,3)\n",
        "print(\"iou for boxes that only touch at vertices = \" + str(iou(box1,box2)))\n",
        "\n",
        "## Test case 4: boxes intersect at edge only\n",
        "box1 = (1,1,3,3)\n",
        "box2 = (2,3,3,4)\n",
        "print(\"iou for boxes that only touch at edges = \" + str(iou(box1,box2)))"
      ]
    },
    {
      "cell_type": "markdown",
      "metadata": {
        "id": "Le_KumN4Q9a6"
      },
      "source": [
        "**Expected Output**:\n",
        "\n",
        "```\n",
        "iou for intersecting boxes = 0.14285714285714285\n",
        "iou for non-intersecting boxes = 0.0\n",
        "iou for boxes that only touch at vertices = 0.0\n",
        "iou for boxes that only touch at edges = 0.0\n",
        "```"
      ]
    },
    {
      "cell_type": "markdown",
      "metadata": {
        "id": "5edAOa-gQ9a6"
      },
      "source": [
        "#### YOLO non-max suppression\n",
        "\n",
        "You are now ready to implement non-max suppression. The key steps are: \n",
        "1. Select the box that has the highest score.\n",
        "2. Compute the overlap of this box with all other boxes, and remove boxes that overlap significantly (iou >= `iou_threshold`).\n",
        "3. Go back to step 1 and iterate until there are no more boxes with a lower score than the currently selected box.\n",
        "\n",
        "This will remove all boxes that have a large overlap with the selected boxes. Only the \"best\" boxes remain.\n",
        "\n",
        "**Exercise**: Implement yolo_non_max_suppression() using TensorFlow. TensorFlow has two built-in functions that are used to implement non-max suppression (so you don't actually need to use your `iou()` implementation):\n",
        "\n",
        "** Reference documentation ** \n",
        "\n",
        "- [tf.image.non_max_suppression()](https://www.tensorflow.org/api_docs/python/tf/image/non_max_suppression)\n",
        "```\n",
        "tf.image.non_max_suppression(\n",
        "    boxes,\n",
        "    scores,\n",
        "    max_output_size,\n",
        "    iou_threshold=0.5,\n",
        "    name=None\n",
        ")\n",
        "```\n",
        "Note that in the version of tensorflow used here, there is no parameter `score_threshold` (it's shown in the documentation for the latest version) so trying to set this value will result in an error message: *got an unexpected keyword argument 'score_threshold.*\n",
        "\n",
        "- [K.gather()](https://www.tensorflow.org/api_docs/python/tf/keras/backend/gather)  \n",
        "Even though the documentation shows `tf.keras.backend.gather()`, you can use `keras.gather()`.  \n",
        "```\n",
        "keras.gather(\n",
        "    reference,\n",
        "    indices\n",
        ")\n",
        "```"
      ]
    },
    {
      "cell_type": "code",
      "execution_count": null,
      "metadata": {
        "id": "NhcbEyt5Q9a7"
      },
      "outputs": [],
      "source": [
        "# GRADED FUNCTION: yolo_non_max_suppression\n",
        "\n",
        "def yolo_non_max_suppression(scores, boxes, classes, max_boxes = 10, iou_threshold = 0.5):\n",
        "    \"\"\"\n",
        "    Applies Non-max suppression (NMS) to set of boxes\n",
        "    \n",
        "    Arguments:\n",
        "    scores -- tensor of shape (None,), output of yolo_filter_boxes()\n",
        "    boxes -- tensor of shape (None, 4), output of yolo_filter_boxes() that have been scaled to the image size (see later)\n",
        "    classes -- tensor of shape (None,), output of yolo_filter_boxes()\n",
        "    max_boxes -- integer, maximum number of predicted boxes you'd like\n",
        "    iou_threshold -- real value, \"intersection over union\" threshold used for NMS filtering\n",
        "    \n",
        "    Returns:\n",
        "    scores -- tensor of shape (, None), predicted score for each box\n",
        "    boxes -- tensor of shape (4, None), predicted box coordinates\n",
        "    classes -- tensor of shape (, None), predicted class for each box\n",
        "    \n",
        "    Note: The \"None\" dimension of the output tensors has obviously to be less than max_boxes. Note also that this\n",
        "    function will transpose the shapes of scores, boxes, classes. This is made for convenience.\n",
        "    \"\"\"\n",
        "    \n",
        "  \n",
        "    # Use tf.image.non_max_suppression() to get the list of indices corresponding to boxes you keep\n",
        "    ### START CODE HERE ### (≈ 1 line)\n",
        "    nms_indices = tf.image.non_max_suppression(boxes, scores, max_boxes, iou_threshold)\n",
        "    ### END CODE HERE ###\n",
        "    \n",
        "    # Use K.gather() to select only nms_indices from scores, boxes and classes\n",
        "    ### START CODE HERE ### (≈ 3 lines)\n",
        "    scores = K.gather(scores, nms_indices)\n",
        "    boxes = K.gather(boxes, nms_indices)\n",
        "    classes = K.gather(classes, nms_indices)\n",
        "    ### END CODE HERE ###\n",
        "    \n",
        "    return scores, boxes, classes"
      ]
    },
    {
      "cell_type": "code",
      "execution_count": null,
      "metadata": {
        "id": "SyJpad4dQ9a7"
      },
      "outputs": [],
      "source": [
        "tf.random.set_seed(1)\n",
        "scores = tf.random.normal([54,], mean=1, stddev=4, seed = 1)\n",
        "boxes = tf.random.normal([54, 4], mean=1, stddev=4, seed = 1)\n",
        "classes = tf.random.normal([54,], mean=1, stddev=4, seed = 1)\n",
        "scores, boxes, classes = yolo_non_max_suppression(scores, boxes, classes)\n",
        "print(\"scores[2] = \" + str(scores[2].numpy()))\n",
        "print(\"boxes[2] = \" + str(boxes[2].numpy()))\n",
        "print(\"classes[2] = \" + str(classes[2].numpy()))\n",
        "print(\"scores.shape = \" + str(scores.numpy().shape))\n",
        "print(\"boxes.shape = \" + str(boxes.numpy().shape))\n",
        "print(\"classes.shape = \" + str(classes.numpy().shape))"
      ]
    },
    {
      "cell_type": "markdown",
      "metadata": {
        "id": "bHq1k8vnQ9a7"
      },
      "source": [
        "**Expected Output**:\n",
        "\n",
        "```\n",
        "scores[2] = 7.2217274\n",
        "boxes[2] = [-0.4885149  -0.7482592   1.5157948   0.82847375]\n",
        "classes[2] = -3.8691611\n",
        "scores.shape = (10,)\n",
        "boxes.shape = (10, 4)\n",
        "classes.shape = (10,)\n",
        "```"
      ]
    },
    {
      "cell_type": "markdown",
      "metadata": {
        "id": "hQ6iCIn4Q9a8"
      },
      "source": [
        "### 2.4 Wrapping up the filtering\n",
        "\n",
        "It's time to implement a function taking the output of the deep CNN (the 19x19x5x85 dimensional encoding) and filtering through all the boxes using the functions you've just implemented. \n",
        "\n",
        "**Exercise**: Implement `yolo_eval()` which takes the output of the YOLO encoding and filters the boxes using score threshold and NMS. There's just one last implementational detail you have to know. There're a few ways of representing boxes, such as via their corners or via their midpoint and height/width. YOLO converts between a few such formats at different times, using the following functions (which we have provided): \n",
        "\n",
        "```python\n",
        "boxes = yolo_boxes_to_corners(box_xy, box_wh) \n",
        "```\n",
        "which converts the yolo box coordinates (x,y,w,h) to box corners' coordinates (x1, y1, x2, y2) to fit the input of `yolo_filter_boxes`\n",
        "```python\n",
        "boxes = scale_boxes(boxes, image_shape)\n",
        "```\n",
        "YOLO's network was trained to run on 608x608 images. If you are testing this data on a different size image--for example, the car detection dataset had 720x1280 images--this step rescales the boxes so that they can be plotted on top of the original 720x1280 image.  \n",
        "\n",
        "Don't worry about these two functions; we'll show you where they need to be called.  "
      ]
    },
    {
      "cell_type": "code",
      "execution_count": null,
      "metadata": {
        "id": "6dpT22_SQ9a8"
      },
      "outputs": [],
      "source": [
        "# GRADED FUNCTION: yolo_eval\n",
        "\n",
        "def yolo_eval(yolo_outputs, image_shape = (720., 1280.), max_boxes=10, score_threshold=.6, iou_threshold=.5):\n",
        "    \"\"\"\n",
        "    Converts the output of YOLO encoding (a lot of boxes) to your predicted boxes along with their scores, box coordinates and classes.\n",
        "    \n",
        "    Arguments:\n",
        "    yolo_outputs -- output of the encoding model (for image_shape of (608, 608, 3)), contains 4 tensors:\n",
        "                    box_xy: tensor of shape (None, 19, 19, 5, 2)\n",
        "                    box_wh: tensor of shape (None, 19, 19, 5, 2)\n",
        "                    box_confidence: tensor of shape (None, 19, 19, 5, 1)\n",
        "                    box_class_probs: tensor of shape (None, 19, 19, 5, 80)\n",
        "    image_shape -- tensor of shape (2,) containing the input shape, in this notebook we use (608., 608.) (has to be float32 dtype)\n",
        "    max_boxes -- integer, maximum number of predicted boxes you'd like\n",
        "    score_threshold -- real value, if [ highest class probability score < threshold], then get rid of the corresponding box\n",
        "    iou_threshold -- real value, \"intersection over union\" threshold used for NMS filtering\n",
        "    \n",
        "    Returns:\n",
        "    scores -- tensor of shape (None, ), predicted score for each box\n",
        "    boxes -- tensor of shape (None, 4), predicted box coordinates\n",
        "    classes -- tensor of shape (None,), predicted class for each box\n",
        "    \"\"\"\n",
        "    \n",
        "    ### START CODE HERE ### \n",
        "    \n",
        "    # Retrieve outputs of the YOLO model (≈1 line)\n",
        "    box_xy, box_wh, box_confidence, box_class_probs = yolo_outputs\n",
        "\n",
        "    # Convert boxes to be ready for filtering functions (convert boxes box_xy and box_wh to corner coordinates)\n",
        "    boxes = yolo_boxes_to_corners(box_xy, box_wh)\n",
        "\n",
        "    # Use one of the functions you've implemented to perform Score-filtering with a threshold of score_threshold (≈1 line)\n",
        "    scores, boxes, classes = yolo_filter_boxes(box_confidence, boxes, box_class_probs, score_threshold)\n",
        "    \n",
        "    # Scale boxes back to original image shape.\n",
        "    boxes = scale_boxes(boxes, image_shape)\n",
        "\n",
        "    # Use one of the functions you've implemented to perform Non-max suppression with \n",
        "    # maximum number of boxes set to max_boxes and a threshold of iou_threshold (≈1 line)\n",
        "    scores, boxes, classes = yolo_non_max_suppression(scores, boxes, classes, max_boxes, iou_threshold)\n",
        "    \n",
        "    ### END CODE HERE ###\n",
        "    \n",
        "    return scores, boxes, classes"
      ]
    },
    {
      "cell_type": "code",
      "execution_count": null,
      "metadata": {
        "id": "d7sHGeSfQ9a8"
      },
      "outputs": [],
      "source": [
        "tf.random.set_seed(1)\n",
        "yolo_outputs = (tf.random.normal([19, 19, 5, 2], mean=1, stddev=4, seed = 1),\n",
        "                tf.random.normal([19, 19, 5, 2], mean=1, stddev=4, seed = 1),\n",
        "                tf.random.normal([19, 19, 5, 1], mean=1, stddev=4, seed = 1),\n",
        "                tf.random.normal([19, 19, 5, 80], mean=1, stddev=4, seed = 1))\n",
        "scores, boxes, classes = yolo_eval(yolo_outputs)\n",
        "print(\"scores[2] = \" + str(scores[2].numpy()))\n",
        "print(\"boxes[2] = \" + str(boxes[2].numpy()))\n",
        "print(\"classes[2] = \" + str(classes[2].numpy()))\n",
        "print(\"scores.shape = \" + str(scores.numpy().shape))\n",
        "print(\"boxes.shape = \" + str(boxes.numpy().shape))\n",
        "print(\"classes.shape = \" + str(classes.numpy().shape))"
      ]
    },
    {
      "cell_type": "markdown",
      "metadata": {
        "id": "6dp1sYI0Q9a8"
      },
      "source": [
        "**Expected Output**:\n",
        "\n",
        "```\n",
        "scores[2] = 181.80981\n",
        "boxes[2] = [-3468.827  -5809.2373 -7134.677   3184.0332]\n",
        "classes[2] = 19\n",
        "scores.shape = (10,)\n",
        "boxes.shape = (10, 4)\n",
        "classes.shape = (10,)\n",
        "```"
      ]
    },
    {
      "cell_type": "markdown",
      "metadata": {
        "id": "KCa55DIWQ9a8"
      },
      "source": [
        "## Summary for YOLO:\n",
        "- Input image (608, 608, 3)\n",
        "- The input image goes through a CNN, resulting in a (19,19,5,85) dimensional output. \n",
        "- After flattening the last two dimensions, the output is a volume of shape (19, 19, 425):\n",
        "    - Each cell in a 19x19 grid over the input image gives 425 numbers. \n",
        "    - 425 = 5 x 85 because each cell contains predictions for 5 boxes, corresponding to 5 anchor boxes, as seen in lecture. \n",
        "    - 85 = 5 + 80 where 5 is because $(p_c, b_x, b_y, b_h, b_w)$ has 5 numbers, and 80 is the number of classes we'd like to detect\n",
        "- You then select only few boxes based on:\n",
        "    - Score-thresholding: throw away boxes that have detected a class with a score less than the threshold\n",
        "    - Non-max suppression: Compute the Intersection over Union and avoid selecting overlapping boxes\n",
        "- This gives you YOLO's final output. "
      ]
    },
    {
      "cell_type": "markdown",
      "metadata": {
        "id": "HfEyxB7-Q9a9"
      },
      "source": [
        "## 3 - Test YOLO pre-trained model on images"
      ]
    },
    {
      "cell_type": "markdown",
      "metadata": {
        "id": "N9yPDcMBQ9a9"
      },
      "source": [
        "In this part, you are going to use a pre-trained model and test it on the car detection dataset.  "
      ]
    },
    {
      "cell_type": "markdown",
      "metadata": {
        "id": "bPjHqMgfQ9a9"
      },
      "source": [
        "### 3.1 - Defining classes, anchors and image shape.\n",
        "\n",
        "* Recall that we are trying to detect 80 classes, and are using 5 anchor boxes. \n",
        "* We have gathered the information on the 80 classes and 5 boxes in two files \"coco_classes.txt\" and \"yolo_anchors.txt\". \n",
        "* We'll read class names and anchors from text files.\n",
        "* The car detection dataset has 720x1280 images, which we've pre-processed into 608x608 images. "
      ]
    },
    {
      "cell_type": "code",
      "execution_count": null,
      "metadata": {
        "id": "zXvcIeirQ9a9"
      },
      "outputs": [],
      "source": [
        "class_names = read_classes(\"model_data/coco_classes.txt\")\n",
        "anchors = read_anchors(\"model_data/yolo_anchors.txt\")\n",
        "image_shape = (720., 1280.)    "
      ]
    },
    {
      "cell_type": "markdown",
      "metadata": {
        "id": "Ymz1lHPEQ9a9"
      },
      "source": [
        "### 3.2 - Loading a pre-trained model\n",
        "\n",
        "* Training a YOLO model takes a very long time and requires a fairly large dataset of labelled bounding boxes for a large range of target classes. \n",
        "* You are going to load an existing pre-trained Keras YOLO model stored in \"yolo.h5\". \n",
        "* These weights come from the official YOLO website, and were converted using a function written by Allan Zelener. References are at the end of this notebook. Technically, these are the parameters from the \"YOLOv2\" model, but we will simply refer to it as \"YOLO\" in this notebook.\n",
        "\n",
        "Run the cell below to load the model from this file."
      ]
    },
    {
      "cell_type": "code",
      "execution_count": null,
      "metadata": {
        "id": "yIbQtBNEQ9a9"
      },
      "outputs": [],
      "source": [
        "yolo_model = load_model(\"model_data/yolov2.h5\")"
      ]
    },
    {
      "cell_type": "markdown",
      "metadata": {
        "id": "HJB3N_K4Q9a-"
      },
      "source": [
        "This loads the weights of a trained YOLO model. Here's a summary of the layers your model contains."
      ]
    },
    {
      "cell_type": "code",
      "execution_count": null,
      "metadata": {
        "id": "5A3le7upQ9a-"
      },
      "outputs": [],
      "source": [
        "tf.keras.utils.plot_model(yolo_model, show_shapes=False)"
      ]
    },
    {
      "cell_type": "markdown",
      "metadata": {
        "id": "tLATbpK0Q9a-"
      },
      "source": [
        "**Note**: On some computers, you may see a warning message from Keras. Don't worry about it if you do--it is fine.\n",
        "\n",
        "**Reminder**: this model converts a preprocessed batch of input images (shape: (m, 608, 608, 3)) into a tensor of shape (m, 19, 19, 5, 85) as explained in Figure (2)."
      ]
    },
    {
      "cell_type": "markdown",
      "metadata": {
        "id": "uxr6H0fUQ9a-"
      },
      "source": [
        "### 3.3 - Run the yolo_model on a test image\n",
        "The output 'yolo_pred' is a numpy variable. We need to transfer it to a tensor for later use."
      ]
    },
    {
      "cell_type": "code",
      "execution_count": null,
      "metadata": {
        "id": "gqMaAioFQ9a-"
      },
      "outputs": [],
      "source": [
        "image_file=\"test.jpg\"\n",
        "image, image_data = preprocess_image(\"images/\" + image_file, model_image_size = (608, 608))\n",
        "yolo_pred_numpy = yolo_model.predict(image_data)\n",
        "yolo_pred_tensor = tf.constant(yolo_pred_numpy)"
      ]
    },
    {
      "cell_type": "markdown",
      "metadata": {
        "id": "BzbN6J6QQ9a-"
      },
      "source": [
        "### 3.4 - Convert output of the model to usable bounding box tensors\n",
        "\n",
        "The output of `yolo_model` is a (m, 19, 19, 5, 85) tensor that needs to pass through non-trivial processing and conversion. The following cell does that for you.\n",
        "\n",
        "If you are curious about how `yolo_head` is implemented, you can find the function definition in the file ['keras_yolo.py'](https://github.com/allanzelener/YAD2K/blob/master/yad2k/models/keras_yolo.py).  The file is located in your workspace in this path 'yad2k/models/keras_yolo.py'."
      ]
    },
    {
      "cell_type": "code",
      "execution_count": null,
      "metadata": {
        "id": "yxlkRZmSQ9a-"
      },
      "outputs": [],
      "source": [
        "yolo_outputs = yolo_head(yolo_pred_tensor, anchors, len(class_names))"
      ]
    },
    {
      "cell_type": "markdown",
      "metadata": {
        "id": "yfRtuS3EQ9a_"
      },
      "source": [
        "You added `yolo_outputs` to your graph. This set of 4 tensors is ready to be used as input by your `yolo_eval` function."
      ]
    },
    {
      "cell_type": "markdown",
      "metadata": {
        "id": "oUsOm6CoQ9a_"
      },
      "source": [
        "### 3.4 - Filtering boxes\n",
        "\n",
        "`yolo_outputs` gave you all the predicted boxes of `yolo_model` in the correct format. You're now ready to perform filtering and select only the best boxes. Let's now call `yolo_eval`, which you had previously implemented, to do this. "
      ]
    },
    {
      "cell_type": "code",
      "execution_count": null,
      "metadata": {
        "id": "wah9aem7Q9a_"
      },
      "outputs": [],
      "source": [
        "scores, boxes, classes = yolo_eval(yolo_outputs, image_shape)"
      ]
    },
    {
      "cell_type": "markdown",
      "metadata": {
        "id": "cSs9MQfMQ9a_"
      },
      "source": [
        "### 3.5 - Run the graph on an image\n",
        "Show one picture"
      ]
    },
    {
      "cell_type": "code",
      "execution_count": null,
      "metadata": {
        "id": "QHTUHvm_Q9a_"
      },
      "outputs": [],
      "source": [
        "print('Found {} boxes for {}'.format(len(boxes), image_file))\n",
        "# Generate colors for drawing bounding boxes.\n",
        "colors = generate_colors(class_names)\n",
        "# Draw bounding boxes on the image file\n",
        "draw_boxes(image, scores, boxes, classes, class_names, colors)\n",
        "# Save the predicted bounding box on the image\n",
        "image.save(os.path.join(\"out\", image_file), quality=90)\n",
        "# Display the results in the notebook\n",
        "import imageio\n",
        "output_image = imageio.imread(os.path.join(\"out\", image_file))\n",
        "imshow(output_image)"
      ]
    },
    {
      "cell_type": "markdown",
      "metadata": {
        "id": "UpclN2PKQ9a_"
      },
      "source": [
        "**Expected Output**:\n",
        "\n",
        "```\n",
        "Found 7 boxes for test.jpg\n",
        "car 0.60 (925, 285) (1045, 374)\n",
        "car 0.66 (706, 279) (786, 350)\n",
        "bus 0.67 (5, 266) (220, 407)\n",
        "car 0.70 (947, 324) (1280, 705)\n",
        "car 0.74 (159, 303) (346, 440)\n",
        "car 0.80 (761, 282) (942, 412)\n",
        "car 0.89 (367, 300) (745, 648)\n",
        "```"
      ]
    },
    {
      "cell_type": "markdown",
      "metadata": {
        "id": "j4fmXlomQ9bA"
      },
      "source": [
        "### 3.5 - Pack the prediction in a function"
      ]
    },
    {
      "cell_type": "code",
      "execution_count": null,
      "metadata": {
        "id": "H4J3R5_iQ9bA"
      },
      "outputs": [],
      "source": [
        "def display_yolo(image_file, model, score_threshold=0.6, iou_threshold=0.5):    \n",
        "    image, image_data = preprocess_image(image_file, model_image_size = (608, 608))\n",
        "    yolo_pred_tensor = tf.constant(model.predict(image_data))\n",
        "    yolo_outputs = yolo_head(yolo_pred_tensor, anchors, len(class_names))\n",
        "    scores, boxes, classes = yolo_eval(yolo_outputs, image_shape, score_threshold=score_threshold, iou_threshold=iou_threshold)\n",
        "    # Generate colors for drawing bounding boxes.\n",
        "    colors = generate_colors(class_names)\n",
        "    # Draw bounding boxes on the image file\n",
        "    draw_boxes(image, scores, boxes, classes, class_names, colors)\n",
        "    # Save the predicted bounding box on the image\n",
        "    image.save(os.path.join(\"out\", image_file), quality=90)"
      ]
    },
    {
      "cell_type": "markdown",
      "metadata": {
        "id": "tEom_L6DQ9bA"
      },
      "source": [
        "Run the function in a loop, and save all boxed images."
      ]
    },
    {
      "cell_type": "code",
      "execution_count": null,
      "metadata": {
        "id": "89Hr7OiEQ9bA"
      },
      "outputs": [],
      "source": [
        "import glob\n",
        "x_files =  glob.glob('images/*.jpg')\n",
        "for file in x_files[::]:\n",
        "    display_yolo(file, yolo_model)"
      ]
    },
    {
      "cell_type": "markdown",
      "metadata": {
        "id": "BrdFO9XuQ9bA"
      },
      "source": [
        "Use the saved images to make a video."
      ]
    },
    {
      "cell_type": "code",
      "execution_count": null,
      "metadata": {
        "colab": {
          "background_save": true
        },
        "id": "76c_Yk23Q9bB"
      },
      "outputs": [],
      "source": [
        "from pathlib import Path\n",
        "image_path = Path('out/images')\n",
        "images = list(image_path.glob('*.jpg'))\n",
        "image_list = []\n",
        "for file_name in images:\n",
        "    image_list.append(imageio.imread(file_name))\n",
        "imageio.mimwrite('traffic.gif', image_list)"
      ]
    },
    {
      "cell_type": "markdown",
      "metadata": {
        "id": "7gLow_dqQ9bB"
      },
      "source": [
        "\n",
        "## <font color='darkblue'>What you should remember:\n",
        "    \n",
        "- YOLO is a state-of-the-art object detection model that is fast and accurate\n",
        "- It runs an input image through a CNN which outputs a 19x19x5x85 dimensional volume. \n",
        "- The encoding can be seen as a grid where each of the 19x19 cells contains information about 5 boxes.\n",
        "- You filter through all the boxes using non-max suppression. Specifically: \n",
        "    - Score thresholding on the probability of detecting a class to keep only accurate (high probability) boxes\n",
        "    - Intersection over Union (IoU) thresholding to eliminate overlapping boxes\n",
        "- Because training a YOLO model from randomly initialized weights is non-trivial and requires a large dataset as well as lot of computation, we used previously trained model parameters in this exercise. If you wish, you can also try fine-tuning the YOLO model with your own dataset, though this would be a fairly non-trivial exercise. "
      ]
    },
    {
      "cell_type": "markdown",
      "metadata": {
        "id": "LFnm1d8bQ9bB"
      },
      "source": [
        "**References**: The ideas presented in this notebook came primarily from the two YOLO papers. The implementation here also took significant inspiration and used many components from Allan Zelener's GitHub repository. The pre-trained weights used in this exercise came from the official YOLO website. \n",
        "- Joseph Redmon, Santosh Divvala, Ross Girshick, Ali Farhadi - [You Only Look Once: Unified, Real-Time Object Detection](https://arxiv.org/abs/1506.02640) (2015)\n",
        "- Joseph Redmon, Ali Farhadi - [YOLO9000: Better, Faster, Stronger](https://arxiv.org/abs/1612.08242) (2016)\n",
        "- Allan Zelener - [YAD2K: Yet Another Darknet 2 Keras](https://github.com/allanzelener/YAD2K)\n",
        "- The official YOLO website (https://pjreddie.com/darknet/yolo/) "
      ]
    },
    {
      "cell_type": "markdown",
      "metadata": {
        "id": "YEDHSzqXQ9bB"
      },
      "source": [
        "**Car detection dataset**:\n",
        "<a rel=\"license\" href=\"http://creativecommons.org/licenses/by/4.0/\"><img alt=\"Creative Commons License\" style=\"border-width:0\" src=\"https://i.creativecommons.org/l/by/4.0/88x31.png\" /></a><br /><span xmlns:dct=\"http://purl.org/dc/terms/\" property=\"dct:title\">The Drive.ai Sample Dataset</span> (provided by drive.ai) is licensed under a <a rel=\"license\" href=\"http://creativecommons.org/licenses/by/4.0/\">Creative Commons Attribution 4.0 International License</a>. We are grateful to Brody Huval, Chih Hu and Rahul Patel for  providing this data. "
      ]
    }
  ],
  "metadata": {
    "colab": {
      "collapsed_sections": [],
      "name": "self_driving.ipynb",
      "provenance": [],
      "include_colab_link": true
    },
    "coursera": {
      "course_slug": "convolutional-neural-networks",
      "graded_item_id": "OMdut",
      "launcher_item_id": "bbBOL"
    },
    "kernelspec": {
      "display_name": "Python 3",
      "language": "python",
      "name": "python3"
    },
    "language_info": {
      "codemirror_mode": {
        "name": "ipython",
        "version": 3
      },
      "file_extension": ".py",
      "mimetype": "text/x-python",
      "name": "python",
      "nbconvert_exporter": "python",
      "pygments_lexer": "ipython3",
      "version": "3.7.6"
    }
  },
  "nbformat": 4,
  "nbformat_minor": 0
}